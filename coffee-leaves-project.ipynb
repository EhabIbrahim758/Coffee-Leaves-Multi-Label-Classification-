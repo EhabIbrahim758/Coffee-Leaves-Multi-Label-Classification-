{
 "cells": [
  {
   "cell_type": "code",
   "execution_count": 1,
   "id": "d4215d13",
   "metadata": {
    "execution": {
     "iopub.execute_input": "2022-02-22T01:20:26.132358Z",
     "iopub.status.busy": "2022-02-22T01:20:26.130858Z",
     "iopub.status.idle": "2022-02-22T01:20:29.116366Z",
     "shell.execute_reply": "2022-02-22T01:20:29.115396Z"
    },
    "papermill": {
     "duration": 3.021918,
     "end_time": "2022-02-22T01:20:29.116540",
     "exception": false,
     "start_time": "2022-02-22T01:20:26.094622",
     "status": "completed"
    },
    "tags": []
   },
   "outputs": [],
   "source": [
    "from torch.utils.data import Dataset, DataLoader\n",
    "from sklearn.model_selection import train_test_split\n",
    "import cv2\n",
    "from torchvision.models import vgg16 \n",
    "\n",
    "\n",
    "import numpy as np  \n",
    "import pandas as pd\n",
    "import os\n",
    "import torchvision\n",
    "import torch\n",
    "from torch import nn\n",
    "import torch.nn.functional as F\n",
    "from torchvision import datasets, transforms, models\n",
    "import torch.optim as optim\n",
    "import matplotlib.pyplot as plt\n",
    "import collections\n",
    "from sklearn.metrics import classification_report, confusion_matrix, accuracy_score\n",
    "import seaborn as sns"
   ]
  },
  {
   "cell_type": "markdown",
   "id": "082f5af7",
   "metadata": {
    "papermill": {
     "duration": 0.03053,
     "end_time": "2022-02-22T01:20:29.179193",
     "exception": false,
     "start_time": "2022-02-22T01:20:29.148663",
     "status": "completed"
    },
    "tags": []
   },
   "source": [
    "## Data Exploration And Analysis"
   ]
  },
  {
   "cell_type": "code",
   "execution_count": 2,
   "id": "b8d6c007",
   "metadata": {
    "execution": {
     "iopub.execute_input": "2022-02-22T01:20:29.248126Z",
     "iopub.status.busy": "2022-02-22T01:20:29.247441Z",
     "iopub.status.idle": "2022-02-22T01:20:29.273994Z",
     "shell.execute_reply": "2022-02-22T01:20:29.274459Z"
    },
    "papermill": {
     "duration": 0.062522,
     "end_time": "2022-02-22T01:20:29.274618",
     "exception": false,
     "start_time": "2022-02-22T01:20:29.212096",
     "status": "completed"
    },
    "tags": []
   },
   "outputs": [
    {
     "data": {
      "text/html": [
       "<div>\n",
       "<style scoped>\n",
       "    .dataframe tbody tr th:only-of-type {\n",
       "        vertical-align: middle;\n",
       "    }\n",
       "\n",
       "    .dataframe tbody tr th {\n",
       "        vertical-align: top;\n",
       "    }\n",
       "\n",
       "    .dataframe thead th {\n",
       "        text-align: right;\n",
       "    }\n",
       "</style>\n",
       "<table border=\"1\" class=\"dataframe\">\n",
       "  <thead>\n",
       "    <tr style=\"text-align: right;\">\n",
       "      <th></th>\n",
       "      <th>id</th>\n",
       "      <th>predominant_stress</th>\n",
       "      <th>miner</th>\n",
       "      <th>rust</th>\n",
       "      <th>phoma</th>\n",
       "      <th>cercospora</th>\n",
       "      <th>severity</th>\n",
       "    </tr>\n",
       "  </thead>\n",
       "  <tbody>\n",
       "    <tr>\n",
       "      <th>0</th>\n",
       "      <td>1</td>\n",
       "      <td>0</td>\n",
       "      <td>0</td>\n",
       "      <td>0</td>\n",
       "      <td>0</td>\n",
       "      <td>0</td>\n",
       "      <td>0</td>\n",
       "    </tr>\n",
       "    <tr>\n",
       "      <th>1</th>\n",
       "      <td>2</td>\n",
       "      <td>0</td>\n",
       "      <td>0</td>\n",
       "      <td>0</td>\n",
       "      <td>0</td>\n",
       "      <td>0</td>\n",
       "      <td>0</td>\n",
       "    </tr>\n",
       "    <tr>\n",
       "      <th>2</th>\n",
       "      <td>3</td>\n",
       "      <td>0</td>\n",
       "      <td>0</td>\n",
       "      <td>0</td>\n",
       "      <td>0</td>\n",
       "      <td>0</td>\n",
       "      <td>0</td>\n",
       "    </tr>\n",
       "    <tr>\n",
       "      <th>3</th>\n",
       "      <td>4</td>\n",
       "      <td>0</td>\n",
       "      <td>0</td>\n",
       "      <td>0</td>\n",
       "      <td>0</td>\n",
       "      <td>0</td>\n",
       "      <td>0</td>\n",
       "    </tr>\n",
       "    <tr>\n",
       "      <th>4</th>\n",
       "      <td>5</td>\n",
       "      <td>0</td>\n",
       "      <td>0</td>\n",
       "      <td>0</td>\n",
       "      <td>0</td>\n",
       "      <td>0</td>\n",
       "      <td>0</td>\n",
       "    </tr>\n",
       "  </tbody>\n",
       "</table>\n",
       "</div>"
      ],
      "text/plain": [
       "   id  predominant_stress  miner  rust  phoma  cercospora  severity\n",
       "0   1                   0      0     0      0           0         0\n",
       "1   2                   0      0     0      0           0         0\n",
       "2   3                   0      0     0      0           0         0\n",
       "3   4                   0      0     0      0           0         0\n",
       "4   5                   0      0     0      0           0         0"
      ]
     },
     "execution_count": 2,
     "metadata": {},
     "output_type": "execute_result"
    }
   ],
   "source": [
    "csv_path = '../input/coffee-leaves-dataset/dataset.csv'\n",
    "images_path = '../input/coffee-leaves-dataset/images/images'\n",
    "\n",
    "coffee_df = pd.read_csv(csv_path)\n",
    "coffee_df.head()"
   ]
  },
  {
   "cell_type": "code",
   "execution_count": 3,
   "id": "8cbff7f2",
   "metadata": {
    "execution": {
     "iopub.execute_input": "2022-02-22T01:20:29.364083Z",
     "iopub.status.busy": "2022-02-22T01:20:29.363216Z",
     "iopub.status.idle": "2022-02-22T01:20:29.366838Z",
     "shell.execute_reply": "2022-02-22T01:20:29.367296Z"
    },
    "papermill": {
     "duration": 0.058965,
     "end_time": "2022-02-22T01:20:29.367458",
     "exception": false,
     "start_time": "2022-02-22T01:20:29.308493",
     "status": "completed"
    },
    "tags": []
   },
   "outputs": [
    {
     "name": "stdout",
     "output_type": "stream",
     "text": [
      "<class 'pandas.core.frame.DataFrame'>\n",
      "RangeIndex: 1747 entries, 0 to 1746\n",
      "Data columns (total 7 columns):\n",
      " #   Column              Non-Null Count  Dtype\n",
      "---  ------              --------------  -----\n",
      " 0   id                  1747 non-null   int64\n",
      " 1   predominant_stress  1747 non-null   int64\n",
      " 2   miner               1747 non-null   int64\n",
      " 3   rust                1747 non-null   int64\n",
      " 4   phoma               1747 non-null   int64\n",
      " 5   cercospora          1747 non-null   int64\n",
      " 6   severity            1747 non-null   int64\n",
      "dtypes: int64(7)\n",
      "memory usage: 95.7 KB\n"
     ]
    }
   ],
   "source": [
    "coffee_df.info()"
   ]
  },
  {
   "cell_type": "code",
   "execution_count": 4,
   "id": "dce1c1ab",
   "metadata": {
    "execution": {
     "iopub.execute_input": "2022-02-22T01:20:29.443866Z",
     "iopub.status.busy": "2022-02-22T01:20:29.443169Z",
     "iopub.status.idle": "2022-02-22T01:20:29.662097Z",
     "shell.execute_reply": "2022-02-22T01:20:29.662826Z"
    },
    "papermill": {
     "duration": 0.259991,
     "end_time": "2022-02-22T01:20:29.662996",
     "exception": false,
     "start_time": "2022-02-22T01:20:29.403005",
     "status": "completed"
    },
    "tags": []
   },
   "outputs": [
    {
     "data": {
      "text/plain": [
       "<AxesSubplot:>"
      ]
     },
     "execution_count": 4,
     "metadata": {},
     "output_type": "execute_result"
    },
    {
     "data": {
      "image/png": "[encoded data removed]",
      "text/plain": [
       "<Figure size 432x288 with 1 Axes>"
      ]
     },
     "metadata": {
      "needs_background": "light"
     },
     "output_type": "display_data"
    }
   ],
   "source": [
    "coffee_df['severity'].value_counts().plot(kind = 'bar')"
   ]
  },
  {
   "cell_type": "code",
   "execution_count": 5,
   "id": "2e2d42a6",
   "metadata": {
    "execution": {
     "iopub.execute_input": "2022-02-22T01:20:29.758672Z",
     "iopub.status.busy": "2022-02-22T01:20:29.742958Z",
     "iopub.status.idle": "2022-02-22T01:20:29.931589Z",
     "shell.execute_reply": "2022-02-22T01:20:29.932119Z"
    },
    "papermill": {
     "duration": 0.233362,
     "end_time": "2022-02-22T01:20:29.932270",
     "exception": false,
     "start_time": "2022-02-22T01:20:29.698908",
     "status": "completed"
    },
    "tags": []
   },
   "outputs": [
    {
     "data": {
      "text/plain": [
       "<AxesSubplot:>"
      ]
     },
     "execution_count": 5,
     "metadata": {},
     "output_type": "execute_result"
    },
    {
     "data": {
      "image/png": "[encoded data removed]",
      "text/plain": [
       "<Figure size 432x288 with 1 Axes>"
      ]
     },
     "metadata": {
      "needs_background": "light"
     },
     "output_type": "display_data"
    }
   ],
   "source": [
    "coffee_df['predominant_stress'].value_counts().plot(kind = 'bar')"
   ]
  },
  {
   "cell_type": "code",
   "execution_count": 6,
   "id": "4c114a97",
   "metadata": {
    "execution": {
     "iopub.execute_input": "2022-02-22T01:20:30.008798Z",
     "iopub.status.busy": "2022-02-22T01:20:30.005098Z",
     "iopub.status.idle": "2022-02-22T01:20:30.011706Z",
     "shell.execute_reply": "2022-02-22T01:20:30.012162Z"
    },
    "papermill": {
     "duration": 0.046169,
     "end_time": "2022-02-22T01:20:30.012322",
     "exception": false,
     "start_time": "2022-02-22T01:20:29.966153",
     "status": "completed"
    },
    "tags": []
   },
   "outputs": [
    {
     "data": {
      "text/plain": [
       "(372, 7)"
      ]
     },
     "execution_count": 6,
     "metadata": {},
     "output_type": "execute_result"
    }
   ],
   "source": [
    "coffee_df[(coffee_df['miner'] + coffee_df['rust'] + coffee_df['phoma'] + coffee_df['cercospora']) > 1].shape"
   ]
  },
  {
   "cell_type": "markdown",
   "id": "1cba77a6",
   "metadata": {
    "papermill": {
     "duration": 0.034745,
     "end_time": "2022-02-22T01:20:30.081838",
     "exception": false,
     "start_time": "2022-02-22T01:20:30.047093",
     "status": "completed"
    },
    "tags": []
   },
   "source": [
    "**we have total of 372 images with more than one stress present**"
   ]
  },
  {
   "cell_type": "code",
   "execution_count": 7,
   "id": "cc3cb1aa",
   "metadata": {
    "execution": {
     "iopub.execute_input": "2022-02-22T01:20:30.164954Z",
     "iopub.status.busy": "2022-02-22T01:20:30.164271Z",
     "iopub.status.idle": "2022-02-22T01:20:30.167251Z",
     "shell.execute_reply": "2022-02-22T01:20:30.167669Z"
    },
    "papermill": {
     "duration": 0.050066,
     "end_time": "2022-02-22T01:20:30.167804",
     "exception": false,
     "start_time": "2022-02-22T01:20:30.117738",
     "status": "completed"
    },
    "tags": []
   },
   "outputs": [
    {
     "data": {
      "text/html": [
       "<div>\n",
       "<style scoped>\n",
       "    .dataframe tbody tr th:only-of-type {\n",
       "        vertical-align: middle;\n",
       "    }\n",
       "\n",
       "    .dataframe tbody tr th {\n",
       "        vertical-align: top;\n",
       "    }\n",
       "\n",
       "    .dataframe thead th {\n",
       "        text-align: right;\n",
       "    }\n",
       "</style>\n",
       "<table border=\"1\" class=\"dataframe\">\n",
       "  <thead>\n",
       "    <tr style=\"text-align: right;\">\n",
       "      <th></th>\n",
       "      <th>id</th>\n",
       "      <th>predominant_stress</th>\n",
       "      <th>miner</th>\n",
       "      <th>rust</th>\n",
       "      <th>phoma</th>\n",
       "      <th>cercospora</th>\n",
       "      <th>severity</th>\n",
       "    </tr>\n",
       "  </thead>\n",
       "  <tbody>\n",
       "    <tr>\n",
       "      <th>551</th>\n",
       "      <td>552</td>\n",
       "      <td>5</td>\n",
       "      <td>0</td>\n",
       "      <td>0</td>\n",
       "      <td>1</td>\n",
       "      <td>1</td>\n",
       "      <td>1</td>\n",
       "    </tr>\n",
       "    <tr>\n",
       "      <th>607</th>\n",
       "      <td>608</td>\n",
       "      <td>5</td>\n",
       "      <td>0</td>\n",
       "      <td>0</td>\n",
       "      <td>1</td>\n",
       "      <td>0</td>\n",
       "      <td>1</td>\n",
       "    </tr>\n",
       "    <tr>\n",
       "      <th>638</th>\n",
       "      <td>639</td>\n",
       "      <td>5</td>\n",
       "      <td>0</td>\n",
       "      <td>0</td>\n",
       "      <td>0</td>\n",
       "      <td>0</td>\n",
       "      <td>0</td>\n",
       "    </tr>\n",
       "    <tr>\n",
       "      <th>667</th>\n",
       "      <td>668</td>\n",
       "      <td>5</td>\n",
       "      <td>0</td>\n",
       "      <td>0</td>\n",
       "      <td>0</td>\n",
       "      <td>1</td>\n",
       "      <td>1</td>\n",
       "    </tr>\n",
       "    <tr>\n",
       "      <th>670</th>\n",
       "      <td>671</td>\n",
       "      <td>5</td>\n",
       "      <td>0</td>\n",
       "      <td>0</td>\n",
       "      <td>0</td>\n",
       "      <td>0</td>\n",
       "      <td>0</td>\n",
       "    </tr>\n",
       "    <tr>\n",
       "      <th>...</th>\n",
       "      <td>...</td>\n",
       "      <td>...</td>\n",
       "      <td>...</td>\n",
       "      <td>...</td>\n",
       "      <td>...</td>\n",
       "      <td>...</td>\n",
       "      <td>...</td>\n",
       "    </tr>\n",
       "    <tr>\n",
       "      <th>1714</th>\n",
       "      <td>1715</td>\n",
       "      <td>5</td>\n",
       "      <td>0</td>\n",
       "      <td>1</td>\n",
       "      <td>0</td>\n",
       "      <td>1</td>\n",
       "      <td>1</td>\n",
       "    </tr>\n",
       "    <tr>\n",
       "      <th>1721</th>\n",
       "      <td>1722</td>\n",
       "      <td>5</td>\n",
       "      <td>0</td>\n",
       "      <td>1</td>\n",
       "      <td>0</td>\n",
       "      <td>1</td>\n",
       "      <td>1</td>\n",
       "    </tr>\n",
       "    <tr>\n",
       "      <th>1722</th>\n",
       "      <td>1723</td>\n",
       "      <td>5</td>\n",
       "      <td>1</td>\n",
       "      <td>0</td>\n",
       "      <td>0</td>\n",
       "      <td>1</td>\n",
       "      <td>1</td>\n",
       "    </tr>\n",
       "    <tr>\n",
       "      <th>1730</th>\n",
       "      <td>1731</td>\n",
       "      <td>5</td>\n",
       "      <td>0</td>\n",
       "      <td>1</td>\n",
       "      <td>0</td>\n",
       "      <td>1</td>\n",
       "      <td>2</td>\n",
       "    </tr>\n",
       "    <tr>\n",
       "      <th>1738</th>\n",
       "      <td>1739</td>\n",
       "      <td>5</td>\n",
       "      <td>0</td>\n",
       "      <td>1</td>\n",
       "      <td>0</td>\n",
       "      <td>1</td>\n",
       "      <td>1</td>\n",
       "    </tr>\n",
       "  </tbody>\n",
       "</table>\n",
       "<p>62 rows × 7 columns</p>\n",
       "</div>"
      ],
      "text/plain": [
       "        id  predominant_stress  miner  rust  phoma  cercospora  severity\n",
       "551    552                   5      0     0      1           1         1\n",
       "607    608                   5      0     0      1           0         1\n",
       "638    639                   5      0     0      0           0         0\n",
       "667    668                   5      0     0      0           1         1\n",
       "670    671                   5      0     0      0           0         0\n",
       "...    ...                 ...    ...   ...    ...         ...       ...\n",
       "1714  1715                   5      0     1      0           1         1\n",
       "1721  1722                   5      0     1      0           1         1\n",
       "1722  1723                   5      1     0      0           1         1\n",
       "1730  1731                   5      0     1      0           1         2\n",
       "1738  1739                   5      0     1      0           1         1\n",
       "\n",
       "[62 rows x 7 columns]"
      ]
     },
     "execution_count": 7,
     "metadata": {},
     "output_type": "execute_result"
    }
   ],
   "source": [
    "coffee_df[coffee_df['predominant_stress'] == 5]"
   ]
  },
  {
   "cell_type": "code",
   "execution_count": 8,
   "id": "39ee1ef6",
   "metadata": {
    "execution": {
     "iopub.execute_input": "2022-02-22T01:20:30.247812Z",
     "iopub.status.busy": "2022-02-22T01:20:30.246241Z",
     "iopub.status.idle": "2022-02-22T01:20:30.250037Z",
     "shell.execute_reply": "2022-02-22T01:20:30.249608Z"
    },
    "papermill": {
     "duration": 0.046659,
     "end_time": "2022-02-22T01:20:30.250187",
     "exception": false,
     "start_time": "2022-02-22T01:20:30.203528",
     "status": "completed"
    },
    "tags": []
   },
   "outputs": [
    {
     "data": {
      "text/plain": [
       "3"
      ]
     },
     "execution_count": 8,
     "metadata": {},
     "output_type": "execute_result"
    }
   ],
   "source": [
    "def get_predominant_stress(miner, rust, phoma, cercospora) :\n",
    "    stress_lst = [miner, rust, phoma, cercospora]\n",
    "    predominant_stress = np.argmax(stress_lst) + 1\n",
    "    return predominant_stress\n",
    "\n",
    "get_predominant_stress(0,0,1,0)"
   ]
  },
  {
   "cell_type": "code",
   "execution_count": 9,
   "id": "2f76a168",
   "metadata": {
    "execution": {
     "iopub.execute_input": "2022-02-22T01:20:30.334321Z",
     "iopub.status.busy": "2022-02-22T01:20:30.333602Z",
     "iopub.status.idle": "2022-02-22T01:20:30.336344Z",
     "shell.execute_reply": "2022-02-22T01:20:30.335881Z"
    },
    "papermill": {
     "duration": 0.049588,
     "end_time": "2022-02-22T01:20:30.336470",
     "exception": false,
     "start_time": "2022-02-22T01:20:30.286882",
     "status": "completed"
    },
    "tags": []
   },
   "outputs": [],
   "source": [
    "coffee_df.loc[coffee_df['predominant_stress'] == 5, 'predominant_stress'] = coffee_df[coffee_df['predominant_stress'] == 5].apply(lambda x: get_predominant_stress(x['miner'], x['rust'], x['phoma'], x['cercospora']), axis = 1)"
   ]
  },
  {
   "cell_type": "code",
   "execution_count": 10,
   "id": "ed52728f",
   "metadata": {
    "execution": {
     "iopub.execute_input": "2022-02-22T01:20:30.414367Z",
     "iopub.status.busy": "2022-02-22T01:20:30.413626Z",
     "iopub.status.idle": "2022-02-22T01:20:30.416396Z",
     "shell.execute_reply": "2022-02-22T01:20:30.416905Z"
    },
    "papermill": {
     "duration": 0.044733,
     "end_time": "2022-02-22T01:20:30.417033",
     "exception": false,
     "start_time": "2022-02-22T01:20:30.372300",
     "status": "completed"
    },
    "tags": []
   },
   "outputs": [
    {
     "data": {
      "text/plain": [
       "(0, 7)"
      ]
     },
     "execution_count": 10,
     "metadata": {},
     "output_type": "execute_result"
    }
   ],
   "source": [
    "# check for 5\n",
    "coffee_df[coffee_df['predominant_stress'] == 5].shape"
   ]
  },
  {
   "cell_type": "code",
   "execution_count": 11,
   "id": "f2d44e24",
   "metadata": {
    "execution": {
     "iopub.execute_input": "2022-02-22T01:20:30.493872Z",
     "iopub.status.busy": "2022-02-22T01:20:30.492990Z",
     "iopub.status.idle": "2022-02-22T01:20:30.495354Z",
     "shell.execute_reply": "2022-02-22T01:20:30.494827Z"
    },
    "papermill": {
     "duration": 0.042245,
     "end_time": "2022-02-22T01:20:30.495488",
     "exception": false,
     "start_time": "2022-02-22T01:20:30.453243",
     "status": "completed"
    },
    "tags": []
   },
   "outputs": [],
   "source": [
    "images_path = '../input/coffee-leaves-dataset/images/images'"
   ]
  },
  {
   "cell_type": "code",
   "execution_count": 12,
   "id": "6ce1a992",
   "metadata": {
    "execution": {
     "iopub.execute_input": "2022-02-22T01:20:30.587522Z",
     "iopub.status.busy": "2022-02-22T01:20:30.586379Z",
     "iopub.status.idle": "2022-02-22T01:20:36.483436Z",
     "shell.execute_reply": "2022-02-22T01:20:36.483844Z"
    },
    "papermill": {
     "duration": 5.952227,
     "end_time": "2022-02-22T01:20:36.483988",
     "exception": false,
     "start_time": "2022-02-22T01:20:30.531761",
     "status": "completed"
    },
    "tags": []
   },
   "outputs": [
    {
     "data": {
      "image/png": "[encoded data removed]",
      "text/plain": [
       "<Figure size 1800x288 with 20 Axes>"
      ]
     },
     "metadata": {},
     "output_type": "display_data"
    }
   ],
   "source": [
    "fig = plt.figure(figsize=(25, 4))\n",
    "\n",
    "for idx in np.arange(20):\n",
    "    ax = fig.add_subplot(2, 20//2, idx+1, xticks=[], yticks=[])\n",
    "    random_sample = coffee_df.sample(1)['id'].values[0]\n",
    "    img_path = os.path.join(images_path, f'{random_sample}.jpg')\n",
    "    img = cv2.imread(img_path)\n",
    "    img = cv2.cvtColor(img, cv2.COLOR_BGR2RGB)\n",
    "    ax.imshow(img)\n",
    "    "
   ]
  },
  {
   "cell_type": "markdown",
   "id": "5b6b6b6a",
   "metadata": {
    "papermill": {
     "duration": 0.042218,
     "end_time": "2022-02-22T01:20:36.569075",
     "exception": false,
     "start_time": "2022-02-22T01:20:36.526857",
     "status": "completed"
    },
    "tags": []
   },
   "source": [
    "## load data and data loader"
   ]
  },
  {
   "cell_type": "code",
   "execution_count": 13,
   "id": "1c7e6251",
   "metadata": {
    "execution": {
     "iopub.execute_input": "2022-02-22T01:20:36.672080Z",
     "iopub.status.busy": "2022-02-22T01:20:36.670505Z",
     "iopub.status.idle": "2022-02-22T01:20:36.672656Z",
     "shell.execute_reply": "2022-02-22T01:20:36.673048Z"
    },
    "papermill": {
     "duration": 0.061315,
     "end_time": "2022-02-22T01:20:36.673223",
     "exception": false,
     "start_time": "2022-02-22T01:20:36.611908",
     "status": "completed"
    },
    "tags": []
   },
   "outputs": [],
   "source": [
    "\n",
    "class ImagesDataset(Dataset):\n",
    "    \"\"\"Face Landmarks dataset.\"\"\"\n",
    "\n",
    "    def __init__(self, coffee_df, img_directory, transforms = None, mode = 'train'):\n",
    "        \n",
    "        self.df = coffee_df\n",
    "        self.img_directory = img_directory\n",
    "        self.mode = mode\n",
    "        self.transforms = transforms\n",
    "        \n",
    "        \n",
    "        \n",
    "        \n",
    "        self.train, self.test_df = train_test_split(self.df, test_size = 0.1, \n",
    "                                                    shuffle = True, stratify = self.df['severity'])\n",
    "        \n",
    "        self.train, self.test_df = self.train.reset_index(drop = True), self.test_df.reset_index(drop = True)\n",
    "        \n",
    "        self.train_df, self.valid_df = train_test_split(self.train, test_size = 0.1)\n",
    " \n",
    "        self.train_df, self.valid_df = self.train_df.reset_index(drop = True), self.valid_df.reset_index(drop = True) \n",
    "        \n",
    "        self.image_info = self.data_dict()\n",
    "        \n",
    "        \n",
    "        \n",
    "    def data_dict(self) :\n",
    "        image_info = collections.defaultdict(dict)\n",
    "        if self.mode == 'train' :\n",
    "            data = self.train_df\n",
    "        elif self.mode == 'validation' :\n",
    "            data = self.valid_df\n",
    "        elif self.mode == 'test' :\n",
    "            data = self.test_df\n",
    "        else :\n",
    "            print('Invalid mode')\n",
    "            \n",
    "        for index, row in data.iterrows() :\n",
    "            image_info[index] = {'image_id' : row['id'], 'severity' : row['severity'],\n",
    "                                'miner' : row['miner'], 'rust' : row['rust'], \n",
    "                                'phoma' : row['phoma'], 'cercospora' : row['cercospora'], \n",
    "                                 'predominant_stress' : row['predominant_stress']}\n",
    "            \n",
    "        return image_info    \n",
    "        \n",
    "    def __len__(self):\n",
    "        return len(self.image_info)\n",
    "\n",
    "    def __getitem__(self, idx):\n",
    "        \n",
    "            \n",
    "        image_id = self.image_info[idx]['image_id']\n",
    "        image = cv2.imread(os.path.join(self.img_directory, str(image_id) + '.jpg'))\n",
    "        image = cv2.cvtColor(image, cv2.COLOR_BGR2RGB)\n",
    "\n",
    "        miner = self.image_info[idx]['miner']\n",
    "        rust = self.image_info[idx]['rust']\n",
    "        phoma = self.image_info[idx]['phoma']\n",
    "        cercospora = self.image_info[idx]['cercospora']\n",
    "        severity = self.image_info[idx]['severity']\n",
    "        predominant_stress  = self.image_info[idx]['predominant_stress']\n",
    "        \n",
    "        if self.transforms : \n",
    "            image = self.transforms(image)\n",
    "        \n",
    "        sample = {'image' : image, 'severity' : severity, 'miner' : miner, 'rust' : rust, \n",
    "                 'phoma' : phoma, 'cercospora' : cercospora, 'predominant_stress' : predominant_stress}\n",
    "        \n",
    "        return sample"
   ]
  },
  {
   "cell_type": "code",
   "execution_count": 14,
   "id": "c5819dcf",
   "metadata": {
    "execution": {
     "iopub.execute_input": "2022-02-22T01:20:36.762367Z",
     "iopub.status.busy": "2022-02-22T01:20:36.761548Z",
     "iopub.status.idle": "2022-02-22T01:20:36.771313Z",
     "shell.execute_reply": "2022-02-22T01:20:36.770866Z"
    },
    "papermill": {
     "duration": 0.055287,
     "end_time": "2022-02-22T01:20:36.771443",
     "exception": false,
     "start_time": "2022-02-22T01:20:36.716156",
     "status": "completed"
    },
    "tags": []
   },
   "outputs": [],
   "source": [
    "def data_loader(coffee_df, images_path, batch_size = 32) :\n",
    "    \n",
    "    train_transforms=transforms.Compose([\n",
    "        transforms.ToPILImage(),\n",
    "        transforms.Resize((224, 224)),\n",
    "        transforms.RandomHorizontalFlip(0.5),\n",
    "        transforms.RandomVerticalFlip(0.5),\n",
    "        transforms.RandomApply([transforms.RandomRotation(10)], 0.25),\n",
    "        #transforms.ColorJitter(brightness=0.25, contrast=0.25, saturation=0.25),\n",
    "        transforms.ToTensor(),\n",
    "        transforms.Normalize([0.485, 0.456, 0.406], [0.229, 0.224, 0.225])\n",
    "        ])\n",
    "\n",
    "    val_transforms=transforms.Compose([\n",
    "        transforms.ToPILImage(),\n",
    "        transforms.Resize((224, 224)),\n",
    "        transforms.ToTensor(),\n",
    "        transforms.Normalize([0.485, 0.456, 0.406], [0.229, 0.224, 0.225])\n",
    "        ])\n",
    "    \n",
    "    \n",
    "    train_image_data = ImagesDataset(coffee_df, images_path, mode = 'train', transforms = train_transforms)\n",
    "    valid_image_data = ImagesDataset(coffee_df, images_path, mode = 'validation', transforms = val_transforms)\n",
    "    test_iamge_data = ImagesDataset(coffee_df, images_path, mode = 'test', transforms = val_transforms)\n",
    "    \n",
    "    \n",
    "    num_workers = 0\n",
    "\n",
    "    train_loader = torch.utils.data.DataLoader(train_image_data, batch_size = batch_size,\n",
    "                                              num_workers = num_workers)\n",
    "    validation_loader = torch.utils.data.DataLoader(valid_image_data, batch_size = batch_size,\n",
    "                                                   num_workers = num_workers)\n",
    "    test_loader = torch.utils.data.DataLoader(test_iamge_data, batch_size = batch_size, \n",
    "                                         num_workers = num_workers)\n",
    "    \n",
    "    return train_loader, validation_loader, test_loader"
   ]
  },
  {
   "cell_type": "code",
   "execution_count": 15,
   "id": "6b52699d",
   "metadata": {
    "execution": {
     "iopub.execute_input": "2022-02-22T01:20:36.863807Z",
     "iopub.status.busy": "2022-02-22T01:20:36.862902Z",
     "iopub.status.idle": "2022-02-22T01:20:36.995857Z",
     "shell.execute_reply": "2022-02-22T01:20:36.996466Z"
    },
    "papermill": {
     "duration": 0.182879,
     "end_time": "2022-02-22T01:20:36.996654",
     "exception": false,
     "start_time": "2022-02-22T01:20:36.813775",
     "status": "completed"
    },
    "tags": []
   },
   "outputs": [],
   "source": [
    "train_loader, validation_loader, test_loader = data_loader(coffee_df, images_path, batch_size = 32)"
   ]
  },
  {
   "cell_type": "code",
   "execution_count": 16,
   "id": "a0ad9a08",
   "metadata": {
    "execution": {
     "iopub.execute_input": "2022-02-22T01:20:37.090850Z",
     "iopub.status.busy": "2022-02-22T01:20:37.090309Z",
     "iopub.status.idle": "2022-02-22T01:20:38.628655Z",
     "shell.execute_reply": "2022-02-22T01:20:38.629747Z"
    },
    "papermill": {
     "duration": 1.589092,
     "end_time": "2022-02-22T01:20:38.629951",
     "exception": false,
     "start_time": "2022-02-22T01:20:37.040859",
     "status": "completed"
    },
    "tags": []
   },
   "outputs": [
    {
     "name": "stdout",
     "output_type": "stream",
     "text": [
      "tensor([1, 1, 0, 0, 1, 1, 1, 2, 0, 4, 1, 4, 0, 0, 1, 1, 2, 2, 2, 2, 2, 0, 3, 1,\n",
      "        1, 2, 1, 2, 1, 1, 1, 4])\n",
      "tensor([0, 1, 0, 0, 0, 0, 0, 0, 0, 0, 0, 1, 0, 0, 0, 1, 1, 1, 0, 0, 0, 0, 1, 1,\n",
      "        1, 0, 0, 0, 0, 0, 1, 0])\n",
      "tensor([1, 0, 0, 0, 0, 0, 1, 0, 0, 1, 1, 1, 0, 0, 0, 0, 1, 0, 0, 0, 0, 0, 0, 0,\n",
      "        0, 0, 1, 0, 1, 1, 0, 1])\n",
      "tensor([0, 0, 0, 0, 1, 1, 0, 1, 0, 0, 0, 0, 0, 0, 1, 0, 0, 0, 1, 1, 1, 0, 0, 0,\n",
      "        0, 1, 0, 1, 0, 0, 0, 0])\n",
      "tensor([0, 0, 0, 0, 0, 0, 0, 0, 0, 0, 1, 0, 0, 0, 0, 1, 0, 0, 0, 0, 0, 0, 0, 0,\n",
      "        0, 0, 0, 0, 1, 1, 0, 0])\n"
     ]
    }
   ],
   "source": [
    "x = next(iter(train_loader))\n",
    "# img = x['image'][0]\n",
    "# plt.imshow(img.numpy().transpose(1,2,0))\n",
    "print(x['severity'])\n",
    "print(x['miner'])\n",
    "print(x['rust'])\n",
    "print(x['phoma'])\n",
    "print(x['cercospora'])"
   ]
  },
  {
   "cell_type": "markdown",
   "id": "9dbf131f",
   "metadata": {
    "papermill": {
     "duration": 0.071462,
     "end_time": "2022-02-22T01:20:38.773793",
     "exception": false,
     "start_time": "2022-02-22T01:20:38.702331",
     "status": "completed"
    },
    "tags": []
   },
   "source": [
    "## Model"
   ]
  },
  {
   "cell_type": "code",
   "execution_count": 17,
   "id": "f0004e49",
   "metadata": {
    "execution": {
     "iopub.execute_input": "2022-02-22T01:20:38.937249Z",
     "iopub.status.busy": "2022-02-22T01:20:38.936404Z",
     "iopub.status.idle": "2022-02-22T01:21:15.235622Z",
     "shell.execute_reply": "2022-02-22T01:21:15.234940Z"
    },
    "papermill": {
     "duration": 36.388721,
     "end_time": "2022-02-22T01:21:15.235764",
     "exception": false,
     "start_time": "2022-02-22T01:20:38.847043",
     "status": "completed"
    },
    "tags": []
   },
   "outputs": [
    {
     "name": "stderr",
     "output_type": "stream",
     "text": [
      "Downloading: \"https://download.pytorch.org/models/vgg16-397923af.pth\" to /root/.cache/torch/hub/checkpoints/vgg16-397923af.pth\n"
     ]
    },
    {
     "data": {
      "application/vnd.jupyter.widget-view+json": {
       "model_id": "932fe41d72394578ab1e18e292ce6cd5",
       "version_major": 2,
       "version_minor": 0
      },
      "text/plain": [
       "  0%|          | 0.00/528M [00:00<?, ?B/s]"
      ]
     },
     "metadata": {},
     "output_type": "display_data"
    }
   ],
   "source": [
    "class MultiClass_Classifier(nn.Module) :\n",
    "    def __init__(self) : \n",
    "        super().__init__() \n",
    "        \n",
    "        self.base_model = vgg16(pretrained = True).features\n",
    "        \n",
    "        self.adaptive_avg_pool = nn.AdaptiveAvgPool2d((7, 7))\n",
    "        \n",
    "        self.severity_head = nn.Sequential(\n",
    "            nn.Linear(512 * 7 * 7, 4096),\n",
    "            nn.ReLU(True),\n",
    "            nn.Dropout(),\n",
    "            nn.Linear(4096, 5)\n",
    "        )\n",
    "        \n",
    "        self.stress_head = nn.Sequential(\n",
    "            nn.Linear(512 * 7 * 7, 4096),\n",
    "            nn.ReLU(True),\n",
    "            nn.Dropout(),\n",
    "            nn.Linear(4096, 5)\n",
    "        )\n",
    "        \n",
    "        self.miner_head = nn.Sequential(\n",
    "            nn.Linear(512 * 7 * 7, 4096),\n",
    "            nn.ReLU(True),\n",
    "            nn.Dropout(), \n",
    "            nn.Linear(4096, 1)\n",
    "        )\n",
    "        \n",
    "        self.rust_head = nn.Sequential(\n",
    "            nn.Linear(512 * 7 * 7, 4096),\n",
    "            nn.ReLU(True),\n",
    "            nn.Dropout(),\n",
    "            nn.Linear(4096, 1)\n",
    "        )\n",
    "        \n",
    "        self.phoma_head = nn.Sequential(\n",
    "            nn.Linear(512 * 7 * 7, 4096),\n",
    "            nn.ReLU(True),\n",
    "            nn.Dropout(),\n",
    "            nn.Linear(4096, 1)\n",
    "        )\n",
    "        \n",
    "        self.cercospora_head = nn.Sequential(\n",
    "            nn.Linear(512 * 7 * 7, 4096),\n",
    "            nn.ReLU(True),\n",
    "            nn.Dropout(),\n",
    "            nn.Linear(4096, 1)\n",
    "        )\n",
    "        \n",
    "        \n",
    "    def forward(self, x) :\n",
    "        \n",
    "        x = self.base_model(x)\n",
    "        x = self.adaptive_avg_pool(x)\n",
    "        x = x.view(x.shape[0], -1)\n",
    "        \n",
    "        # correspond to severity\n",
    "        out1 = self.severity_head(x)\n",
    "        \n",
    "        # correspond to predominant stress\n",
    "        out2 = self.stress_head(x)\n",
    "        \n",
    "        # correspond to stress\n",
    "        out3 = self.miner_head(x)\n",
    "        out4 = self.rust_head(x)\n",
    "        out5 = self.phoma_head(x)\n",
    "        out6 = self.cercospora_head(x)\n",
    "        \n",
    "        output = {'severity' : out1, 'predominant_stress' : out2, 'miner_stress' : out3, 'rust_stress' : out4,\n",
    "                  'phoma_stress' : out5, 'cercospora_stress' : out6}\n",
    "        \n",
    "        return output \n",
    "model = MultiClass_Classifier()\n",
    "device = 'cuda' if torch.cuda.is_available() else 'cpu'"
   ]
  },
  {
   "cell_type": "markdown",
   "id": "5982c628",
   "metadata": {
    "papermill": {
     "duration": 0.049766,
     "end_time": "2022-02-22T01:21:15.333902",
     "exception": false,
     "start_time": "2022-02-22T01:21:15.284136",
     "status": "completed"
    },
    "tags": []
   },
   "source": [
    "## Train"
   ]
  },
  {
   "cell_type": "code",
   "execution_count": 18,
   "id": "c8330af7",
   "metadata": {
    "execution": {
     "iopub.execute_input": "2022-02-22T01:21:15.498110Z",
     "iopub.status.busy": "2022-02-22T01:21:15.497010Z",
     "iopub.status.idle": "2022-02-22T01:21:15.499096Z",
     "shell.execute_reply": "2022-02-22T01:21:15.499865Z"
    },
    "papermill": {
     "duration": 0.092134,
     "end_time": "2022-02-22T01:21:15.500056",
     "exception": false,
     "start_time": "2022-02-22T01:21:15.407922",
     "status": "completed"
    },
    "tags": []
   },
   "outputs": [],
   "source": [
    "def train(model, epochs, train_loader, validation_loader, model_chk_path = './model.pth') :\n",
    "    \n",
    "    ## optimizer and criterion\n",
    "    optimizer = optim.SGD(model.parameters(), lr = 0.01)\n",
    "    multi_class_criterion = nn.CrossEntropyLoss()\n",
    "    binary_criterion = nn.BCEWithLogitsLoss()\n",
    "    \n",
    "    model.to(device)\n",
    "    \n",
    "    training_losses = []\n",
    "    validation_losses = []\n",
    "    valid_loss_min = np.inf\n",
    "    \n",
    "    for e in range(epochs) :\n",
    "        running_loss = 0\n",
    "        validation_loss = 0\n",
    "\n",
    "        model.train()\n",
    "        i = 0\n",
    "        for samples in train_loader :\n",
    "\n",
    "            images = samples['image']\n",
    "            severity = samples['severity']\n",
    "            stress = samples['predominant_stress']\n",
    "            miner = samples['miner'].type(torch.FloatTensor).unsqueeze(1)\n",
    "            rust = samples['rust'].type(torch.FloatTensor).unsqueeze(1)\n",
    "            phoma = samples['phoma'].type(torch.FloatTensor).unsqueeze(1)\n",
    "            cercospora = samples['cercospora'].type(torch.FloatTensor).unsqueeze(1)\n",
    "\n",
    "            images, severity, stress, miner, rust, phoma, cercospora = images.to(device), severity.to(device), stress.to(device), miner.to(device), rust.to(device), phoma.to(device), cercospora.to(device)\n",
    "\n",
    "            optimizer.zero_grad()\n",
    "            output = model(images)\n",
    "            \n",
    "            ## prediction\n",
    "            severity_pred = output['severity']\n",
    "            stress_pred = output['predominant_stress']\n",
    "            miner_pred = output['miner_stress']\n",
    "            rust_pred = output['rust_stress']\n",
    "            phoma_pred = output['phoma_stress']\n",
    "            cercospora_pred = output['cercospora_stress']\n",
    "            \n",
    "            ## losses\n",
    "            sev_loss = multi_class_criterion(severity_pred, severity)\n",
    "            stress_loss = multi_class_criterion(stress_pred, stress)\n",
    "            miner_loss = binary_criterion(miner_pred, miner)\n",
    "            rust_loss = binary_criterion(rust_pred, rust)\n",
    "            phoma_loss = binary_criterion(phoma_pred, phoma)\n",
    "            cercospora_loss = binary_criterion(cercospora_pred, cercospora)\n",
    "\n",
    "            total_loss = sev_loss + stress_loss + miner_loss + rust_loss + phoma_loss + cercospora_loss\n",
    "            total_loss.backward()\n",
    "            optimizer.step()\n",
    "\n",
    "            running_loss += total_loss.item()*images.size(0) \n",
    "    \n",
    "        model.eval()\n",
    "        for samples in validation_loader :\n",
    "\n",
    "            images = samples['image']\n",
    "            severity = samples['severity']\n",
    "            stress = samples['predominant_stress']\n",
    "            miner = samples['miner'].type(torch.FloatTensor).unsqueeze(1)\n",
    "            rust = samples['rust'].type(torch.FloatTensor).unsqueeze(1)\n",
    "            phoma = samples['phoma'].type(torch.FloatTensor).unsqueeze(1)\n",
    "            cercospora = samples['cercospora'].type(torch.FloatTensor).unsqueeze(1)        \n",
    "\n",
    "            images, severity, stress, miner, rust, phoma, cercospora = images.to(device), severity.to(device), stress.to(device), miner.to(device), rust.to(device), phoma.to(device), cercospora.to(device)\n",
    "\n",
    "            output = model(images)\n",
    "\n",
    "            ## prediction\n",
    "            severity_pred = output['severity']\n",
    "            stress_pred = output['predominant_stress']\n",
    "            miner_pred = output['miner_stress']\n",
    "            rust_pred = output['rust_stress']\n",
    "            phoma_pred = output['phoma_stress']\n",
    "            cercospora_pred = output['cercospora_stress']\n",
    "\n",
    "            ## losses\n",
    "            sev_loss = multi_class_criterion(severity_pred, severity)\n",
    "            stress_loss = multi_class_criterion(stress_pred, stress)\n",
    "            miner_loss = binary_criterion(miner_pred, miner)\n",
    "            rust_loss = binary_criterion(rust_pred, rust)\n",
    "            phoma_loss = binary_criterion(phoma_pred, phoma)\n",
    "            cercospora_loss = binary_criterion(cercospora_pred, cercospora)\n",
    "\n",
    "            total_loss = sev_loss + stress_loss + miner_loss + rust_loss + phoma_loss + cercospora_loss\n",
    "\n",
    "            validation_loss += total_loss.item()*images.size(0)\n",
    "\n",
    "\n",
    "        train_loss = running_loss/len(train_loader.dataset)\n",
    "        valid_loss = validation_loss/len(validation_loader.dataset)\n",
    "\n",
    "        training_losses.append(train_loss)\n",
    "        validation_losses.append(valid_loss)\n",
    "\n",
    "        print('Epoch {} /tTraining Loss : {:0.6f} /tValidation Loss : {:0.6f}'.\n",
    "              format(e+1, train_loss, valid_loss))    \n",
    "\n",
    "\n",
    "        if valid_loss < valid_loss_min :\n",
    "            print('Validation Loss Decreased ({:0.6f} --> {:0.6f}).   saving model...'.format(\n",
    "                  valid_loss_min, valid_loss, torch.save(model.state_dict(), model_chk_path)))\n",
    "\n",
    "            valid_loss_min = valid_loss\n",
    "    return model    "
   ]
  },
  {
   "cell_type": "code",
   "execution_count": 19,
   "id": "aa7f0296",
   "metadata": {
    "execution": {
     "iopub.execute_input": "2022-02-22T01:21:15.607415Z",
     "iopub.status.busy": "2022-02-22T01:21:15.606678Z",
     "iopub.status.idle": "2022-02-22T02:21:56.366705Z",
     "shell.execute_reply": "2022-02-22T02:21:56.367168Z"
    },
    "papermill": {
     "duration": 3640.818592,
     "end_time": "2022-02-22T02:21:56.368152",
     "exception": false,
     "start_time": "2022-02-22T01:21:15.549560",
     "status": "completed"
    },
    "tags": []
   },
   "outputs": [
    {
     "name": "stdout",
     "output_type": "stream",
     "text": [
      "Epoch 1 /tTraining Loss : 4.780680 /tValidation Loss : 5.522772\n",
      "Validation Loss Decreased (inf --> 5.522772).   saving model...\n",
      "Epoch 2 /tTraining Loss : 3.597858 /tValidation Loss : 3.408618\n",
      "Validation Loss Decreased (5.522772 --> 3.408618).   saving model...\n",
      "Epoch 3 /tTraining Loss : 2.371541 /tValidation Loss : 2.101243\n",
      "Validation Loss Decreased (3.408618 --> 2.101243).   saving model...\n",
      "Epoch 4 /tTraining Loss : 1.890841 /tValidation Loss : 1.986205\n",
      "Validation Loss Decreased (2.101243 --> 1.986205).   saving model...\n",
      "Epoch 5 /tTraining Loss : 1.590973 /tValidation Loss : 2.484642\n",
      "Epoch 6 /tTraining Loss : 1.442623 /tValidation Loss : 1.502694\n",
      "Validation Loss Decreased (1.986205 --> 1.502694).   saving model...\n",
      "Epoch 7 /tTraining Loss : 1.248337 /tValidation Loss : 1.629425\n",
      "Epoch 8 /tTraining Loss : 1.119479 /tValidation Loss : 1.890351\n",
      "Epoch 9 /tTraining Loss : 0.972583 /tValidation Loss : 1.354381\n",
      "Validation Loss Decreased (1.502694 --> 1.354381).   saving model...\n",
      "Epoch 10 /tTraining Loss : 1.006975 /tValidation Loss : 1.566239\n",
      "Epoch 11 /tTraining Loss : 1.049750 /tValidation Loss : 1.041107\n",
      "Validation Loss Decreased (1.354381 --> 1.041107).   saving model...\n",
      "Epoch 12 /tTraining Loss : 0.835005 /tValidation Loss : 1.450621\n",
      "Epoch 13 /tTraining Loss : 0.797749 /tValidation Loss : 1.830304\n",
      "Epoch 14 /tTraining Loss : 0.751828 /tValidation Loss : 1.370843\n",
      "Epoch 15 /tTraining Loss : 0.707551 /tValidation Loss : 1.168500\n",
      "Epoch 16 /tTraining Loss : 0.565862 /tValidation Loss : 0.676088\n",
      "Validation Loss Decreased (1.041107 --> 0.676088).   saving model...\n",
      "Epoch 17 /tTraining Loss : 0.581943 /tValidation Loss : 0.838127\n",
      "Epoch 18 /tTraining Loss : 0.446025 /tValidation Loss : 0.731292\n",
      "Epoch 19 /tTraining Loss : 0.490378 /tValidation Loss : 0.644008\n",
      "Validation Loss Decreased (0.676088 --> 0.644008).   saving model...\n",
      "Epoch 20 /tTraining Loss : 0.443037 /tValidation Loss : 0.605170\n",
      "Validation Loss Decreased (0.644008 --> 0.605170).   saving model...\n",
      "Epoch 21 /tTraining Loss : 0.343316 /tValidation Loss : 0.677338\n",
      "Epoch 22 /tTraining Loss : 0.408676 /tValidation Loss : 0.698549\n",
      "Epoch 23 /tTraining Loss : 0.279253 /tValidation Loss : 1.040757\n",
      "Epoch 24 /tTraining Loss : 0.344712 /tValidation Loss : 0.696954\n",
      "Epoch 25 /tTraining Loss : 0.393234 /tValidation Loss : 0.694869\n",
      "Epoch 26 /tTraining Loss : 0.267649 /tValidation Loss : 0.658574\n",
      "Epoch 27 /tTraining Loss : 0.384657 /tValidation Loss : 0.567924\n",
      "Validation Loss Decreased (0.605170 --> 0.567924).   saving model...\n",
      "Epoch 28 /tTraining Loss : 0.206877 /tValidation Loss : 0.557813\n",
      "Validation Loss Decreased (0.567924 --> 0.557813).   saving model...\n",
      "Epoch 29 /tTraining Loss : 0.236736 /tValidation Loss : 0.723691\n",
      "Epoch 30 /tTraining Loss : 0.155975 /tValidation Loss : 0.593429\n",
      "Epoch 31 /tTraining Loss : 0.141168 /tValidation Loss : 0.932525\n",
      "Epoch 32 /tTraining Loss : 0.149809 /tValidation Loss : 0.653999\n",
      "Epoch 33 /tTraining Loss : 0.149958 /tValidation Loss : 0.556266\n",
      "Validation Loss Decreased (0.557813 --> 0.556266).   saving model...\n",
      "Epoch 34 /tTraining Loss : 0.782072 /tValidation Loss : 0.707759\n",
      "Epoch 35 /tTraining Loss : 0.159989 /tValidation Loss : 0.772415\n",
      "Epoch 36 /tTraining Loss : 0.121627 /tValidation Loss : 0.777453\n",
      "Epoch 37 /tTraining Loss : 0.155722 /tValidation Loss : 0.640549\n",
      "Epoch 38 /tTraining Loss : 0.152299 /tValidation Loss : 0.621171\n",
      "Epoch 39 /tTraining Loss : 0.072646 /tValidation Loss : 0.676144\n",
      "Epoch 40 /tTraining Loss : 0.057692 /tValidation Loss : 0.789693\n",
      "Epoch 41 /tTraining Loss : 0.442528 /tValidation Loss : 0.803920\n",
      "Epoch 42 /tTraining Loss : 0.102684 /tValidation Loss : 0.694322\n",
      "Epoch 43 /tTraining Loss : 0.129037 /tValidation Loss : 0.646494\n",
      "Epoch 44 /tTraining Loss : 0.059660 /tValidation Loss : 0.672653\n",
      "Epoch 45 /tTraining Loss : 0.073955 /tValidation Loss : 1.464427\n",
      "Epoch 46 /tTraining Loss : 0.068027 /tValidation Loss : 0.883188\n",
      "Epoch 47 /tTraining Loss : 0.093915 /tValidation Loss : 0.737013\n",
      "Epoch 48 /tTraining Loss : 0.116223 /tValidation Loss : 0.720115\n",
      "Epoch 49 /tTraining Loss : 0.031987 /tValidation Loss : 0.748735\n",
      "Epoch 50 /tTraining Loss : 0.084378 /tValidation Loss : 0.849990\n"
     ]
    }
   ],
   "source": [
    "## Training\n",
    "model = train(model = model, epochs = 50, train_loader = train_loader,\n",
    "              validation_loader = validation_loader, model_chk_path = './model.pth')\n"
   ]
  },
  {
   "cell_type": "markdown",
   "id": "54aa6c8d",
   "metadata": {
    "papermill": {
     "duration": 0.062671,
     "end_time": "2022-02-22T02:21:56.493830",
     "exception": false,
     "start_time": "2022-02-22T02:21:56.431159",
     "status": "completed"
    },
    "tags": []
   },
   "source": [
    "## Load Trained Model"
   ]
  },
  {
   "cell_type": "code",
   "execution_count": 20,
   "id": "cf354f86",
   "metadata": {
    "execution": {
     "iopub.execute_input": "2022-02-22T02:21:56.627441Z",
     "iopub.status.busy": "2022-02-22T02:21:56.626878Z",
     "iopub.status.idle": "2022-02-22T02:21:58.887451Z",
     "shell.execute_reply": "2022-02-22T02:21:58.886957Z"
    },
    "papermill": {
     "duration": 2.330726,
     "end_time": "2022-02-22T02:21:58.887588",
     "exception": false,
     "start_time": "2022-02-22T02:21:56.556862",
     "status": "completed"
    },
    "tags": []
   },
   "outputs": [
    {
     "data": {
      "text/plain": [
       "<All keys matched successfully>"
      ]
     },
     "execution_count": 20,
     "metadata": {},
     "output_type": "execute_result"
    }
   ],
   "source": [
    "model_chk = './model.pth'\n",
    "model.load_state_dict(torch.load(model_chk))"
   ]
  },
  {
   "cell_type": "code",
   "execution_count": 21,
   "id": "0ee61c52",
   "metadata": {
    "execution": {
     "iopub.execute_input": "2022-02-22T02:21:59.027910Z",
     "iopub.status.busy": "2022-02-22T02:21:59.026359Z",
     "iopub.status.idle": "2022-02-22T02:21:59.028496Z",
     "shell.execute_reply": "2022-02-22T02:21:59.028901Z"
    },
    "papermill": {
     "duration": 0.076148,
     "end_time": "2022-02-22T02:21:59.029027",
     "exception": false,
     "start_time": "2022-02-22T02:21:58.952879",
     "status": "completed"
    },
    "tags": []
   },
   "outputs": [],
   "source": [
    "def prediction_class(lst, threshold) : \n",
    "    for i in range(len(lst)) : \n",
    "        if lst[i] >= threshold :\n",
    "            lst[i] = 1\n",
    "        else :\n",
    "            lst[i] = 0\n",
    "    return lst       "
   ]
  },
  {
   "cell_type": "code",
   "execution_count": 22,
   "id": "4360f9b8",
   "metadata": {
    "execution": {
     "iopub.execute_input": "2022-02-22T02:21:59.178190Z",
     "iopub.status.busy": "2022-02-22T02:21:59.172036Z",
     "iopub.status.idle": "2022-02-22T02:21:59.180620Z",
     "shell.execute_reply": "2022-02-22T02:21:59.180167Z"
    },
    "papermill": {
     "duration": 0.087182,
     "end_time": "2022-02-22T02:21:59.180743",
     "exception": false,
     "start_time": "2022-02-22T02:21:59.093561",
     "status": "completed"
    },
    "tags": []
   },
   "outputs": [],
   "source": [
    "def predict(test_loader, model) :\n",
    "    \n",
    "    samples_dict = {'severity_lst' : [], 'stress_lst' : [], 'miner_lst' : [], \n",
    "                    'rust_lst' : [], 'phoma_lst' : [], 'cercospora_lst' : []}\n",
    "    prediction_dict = {'severity_prediction' : [], 'stress_prediction' : [], 'miner_prediction' : [],\n",
    "                       'rust_prediction' : [], 'phoma_prediction' : [], 'cercospora_prediction' : []}\n",
    "    \n",
    "    model.to(device)\n",
    "    \n",
    "    model.eval()\n",
    "    for samples in test_loader :\n",
    "\n",
    "        images = samples['image']\n",
    "        severity = samples['severity']\n",
    "        stress = samples['predominant_stress']\n",
    "        miner = samples['miner'].type(torch.FloatTensor).unsqueeze(1)\n",
    "        rust = samples['rust'].type(torch.FloatTensor).unsqueeze(1)\n",
    "        phoma = samples['phoma'].type(torch.FloatTensor).unsqueeze(1)\n",
    "        cercospora = samples['cercospora'].type(torch.FloatTensor).unsqueeze(1)        \n",
    "\n",
    "\n",
    "        samples_dict['severity_lst'].extend(severity.numpy())\n",
    "        samples_dict['stress_lst'].extend(severity.numpy())\n",
    "        samples_dict['miner_lst'].extend(miner.squeeze(1).numpy())\n",
    "        samples_dict['rust_lst'].extend(rust.squeeze(1).numpy())\n",
    "        samples_dict['phoma_lst'].extend(phoma.squeeze(1).numpy())\n",
    "        samples_dict['cercospora_lst'].extend(cercospora.squeeze(1).numpy())\n",
    "\n",
    "        images, severity, stress, miner, rust, phoma, cercospora = images.to(device), severity.to(device), stress.to(device), miner.to(device), rust.to(device), phoma.to(device), cercospora.to(device)\n",
    "\n",
    "        output = model(images)\n",
    "\n",
    "        ## prediction\n",
    "        severity_pred = torch.softmax(output['severity'], dim=1)\n",
    "        _, severity_pred_class = torch.max(severity_pred.data, 1)\n",
    "\n",
    "        stress_pred = torch.softmax(output['predominant_stress'], dim=1)\n",
    "        _, stress_pred_class = torch.max(stress_pred.data, 1)\n",
    "        \n",
    "        miner_pred = torch.sigmoid(output['miner_stress'])\n",
    "        miner_pred_class = prediction_class(miner_pred, 0.5)\n",
    "\n",
    "        rust_pred = torch.sigmoid(output['rust_stress'])\n",
    "        rust_pred_class = prediction_class(rust_pred, 0.5)\n",
    "\n",
    "        phoma_pred = torch.sigmoid(output['phoma_stress'])\n",
    "        phoma_pred_class = prediction_class(phoma_pred, 0.5)\n",
    "\n",
    "        cercospora_pred = torch.sigmoid(output['cercospora_stress'])\n",
    "        cercospora_pred_class = prediction_class(cercospora_pred, 0.5)\n",
    "\n",
    "        prediction_dict['severity_prediction'].extend(severity_pred_class.cpu().detach().squeeze(-1).numpy())\n",
    "        prediction_dict['stress_prediction'].extend(stress_pred_class.cpu().detach().squeeze(-1).numpy())\n",
    "        prediction_dict['miner_prediction'].extend(miner_pred_class.cpu().detach().squeeze(1).numpy())\n",
    "        prediction_dict['rust_prediction'].extend(rust_pred_class.cpu().detach().squeeze(1).numpy())\n",
    "        prediction_dict ['phoma_prediction'].extend(phoma_pred_class.cpu().detach().squeeze(1).numpy())\n",
    "        prediction_dict['cercospora_prediction'].extend(cercospora_pred_class.cpu().detach().squeeze(1).numpy())\n",
    "\n",
    "    \n",
    "    return samples_dict, prediction_dict\n",
    "    "
   ]
  },
  {
   "cell_type": "code",
   "execution_count": 23,
   "id": "1da708ca",
   "metadata": {
    "execution": {
     "iopub.execute_input": "2022-02-22T02:21:59.317059Z",
     "iopub.status.busy": "2022-02-22T02:21:59.316211Z",
     "iopub.status.idle": "2022-02-22T02:22:06.827999Z",
     "shell.execute_reply": "2022-02-22T02:22:06.827536Z"
    },
    "papermill": {
     "duration": 7.581226,
     "end_time": "2022-02-22T02:22:06.828156",
     "exception": false,
     "start_time": "2022-02-22T02:21:59.246930",
     "status": "completed"
    },
    "tags": []
   },
   "outputs": [],
   "source": [
    "samples_dict, prediction_dict = predict(test_loader = test_loader, model = model)"
   ]
  },
  {
   "cell_type": "code",
   "execution_count": 24,
   "id": "e90189ae",
   "metadata": {
    "execution": {
     "iopub.execute_input": "2022-02-22T02:22:06.966281Z",
     "iopub.status.busy": "2022-02-22T02:22:06.965353Z",
     "iopub.status.idle": "2022-02-22T02:22:06.967134Z",
     "shell.execute_reply": "2022-02-22T02:22:06.967544Z"
    },
    "papermill": {
     "duration": 0.073723,
     "end_time": "2022-02-22T02:22:06.967679",
     "exception": false,
     "start_time": "2022-02-22T02:22:06.893956",
     "status": "completed"
    },
    "tags": []
   },
   "outputs": [],
   "source": [
    "def acc_heatmap_and_cls_report(y_true, y_pred, percentage = False, names= None, title = 'Heatmap') :\n",
    "    cm = confusion_matrix(y_true, y_pred)\n",
    "    cm_accuracy = (cm / cm.sum(axis = 0)) * 100\n",
    "    cls_report = classification_report(y_true, y_pred, target_names = names)\n",
    "    accuracy = accuracy_score(y_true, y_pred)\n",
    "    plt.figure(figsize = (12,8))\n",
    "    \n",
    "    ax = sns.heatmap(cm_accuracy if percentage else cm, annot=True, cmap='Blues', fmt = '0.2f')\n",
    "    \n",
    "    ax.set_title(title);\n",
    "    ax.set_xlabel('\\nPredicted Values')\n",
    "    ax.set_ylabel('Actual Values ');\n",
    "    plt.show()\n",
    "    return cls_report, accuracy"
   ]
  },
  {
   "cell_type": "code",
   "execution_count": 25,
   "id": "fe1993d8",
   "metadata": {
    "execution": {
     "iopub.execute_input": "2022-02-22T02:22:07.101803Z",
     "iopub.status.busy": "2022-02-22T02:22:07.101177Z",
     "iopub.status.idle": "2022-02-22T02:22:07.375401Z",
     "shell.execute_reply": "2022-02-22T02:22:07.375861Z"
    },
    "papermill": {
     "duration": 0.343879,
     "end_time": "2022-02-22T02:22:07.376013",
     "exception": false,
     "start_time": "2022-02-22T02:22:07.032134",
     "status": "completed"
    },
    "tags": []
   },
   "outputs": [
    {
     "data": {
      "image/png": "[encoded data removed]",
      "text/plain": [
       "<Figure size 864x576 with 2 Axes>"
      ]
     },
     "metadata": {
      "needs_background": "light"
     },
     "output_type": "display_data"
    }
   ],
   "source": [
    "## severity \n",
    "names = ['Healthy', 'Very low', 'Low', 'High', 'Very high']\n",
    "sev_cls_report, sev_accuracy = acc_heatmap_and_cls_report(samples_dict['severity_lst'], prediction_dict['severity_prediction'], \n",
    "                                                          percentage = True, names = names, title = 'Severity Heatmap')"
   ]
  },
  {
   "cell_type": "code",
   "execution_count": 26,
   "id": "8cfc7007",
   "metadata": {
    "execution": {
     "iopub.execute_input": "2022-02-22T02:22:07.522077Z",
     "iopub.status.busy": "2022-02-22T02:22:07.521240Z",
     "iopub.status.idle": "2022-02-22T02:22:07.792319Z",
     "shell.execute_reply": "2022-02-22T02:22:07.791782Z"
    },
    "papermill": {
     "duration": 0.348127,
     "end_time": "2022-02-22T02:22:07.792465",
     "exception": false,
     "start_time": "2022-02-22T02:22:07.444338",
     "status": "completed"
    },
    "tags": []
   },
   "outputs": [
    {
     "data": {
      "image/png": "[encoded data removed]",
      "text/plain": [
       "<Figure size 864x576 with 2 Axes>"
      ]
     },
     "metadata": {
      "needs_background": "light"
     },
     "output_type": "display_data"
    }
   ],
   "source": [
    "## stress \n",
    "stress_cls_report, stress_accuracy = acc_heatmap_and_cls_report(samples_dict['severity_lst'], prediction_dict['severity_prediction'], \n",
    "                                                          percentage = True, title = 'Predominant Stress Heatmap')"
   ]
  },
  {
   "cell_type": "code",
   "execution_count": 27,
   "id": "2bde46d9",
   "metadata": {
    "execution": {
     "iopub.execute_input": "2022-02-22T02:22:07.935561Z",
     "iopub.status.busy": "2022-02-22T02:22:07.934691Z",
     "iopub.status.idle": "2022-02-22T02:22:08.141784Z",
     "shell.execute_reply": "2022-02-22T02:22:08.142194Z"
    },
    "papermill": {
     "duration": 0.283223,
     "end_time": "2022-02-22T02:22:08.142349",
     "exception": false,
     "start_time": "2022-02-22T02:22:07.859126",
     "status": "completed"
    },
    "tags": []
   },
   "outputs": [
    {
     "data": {
      "image/png": "[encoded data removed]",
      "text/plain": [
       "<Figure size 864x576 with 2 Axes>"
      ]
     },
     "metadata": {
      "needs_background": "light"
     },
     "output_type": "display_data"
    }
   ],
   "source": [
    "## miner\n",
    "miner_cls_report, miner_accuracy = acc_heatmap_and_cls_report(samples_dict['miner_lst'],\n",
    "                                                              prediction_dict['miner_prediction'], title = 'Miner Heatmap')"
   ]
  },
  {
   "cell_type": "code",
   "execution_count": 28,
   "id": "82e1f687",
   "metadata": {
    "execution": {
     "iopub.execute_input": "2022-02-22T02:22:08.283599Z",
     "iopub.status.busy": "2022-02-22T02:22:08.282774Z",
     "iopub.status.idle": "2022-02-22T02:22:08.631952Z",
     "shell.execute_reply": "2022-02-22T02:22:08.631457Z"
    },
    "papermill": {
     "duration": 0.421827,
     "end_time": "2022-02-22T02:22:08.632106",
     "exception": false,
     "start_time": "2022-02-22T02:22:08.210279",
     "status": "completed"
    },
    "tags": []
   },
   "outputs": [
    {
     "data": {
      "image/png": "[encoded data removed]",
      "text/plain": [
       "<Figure size 864x576 with 2 Axes>"
      ]
     },
     "metadata": {
      "needs_background": "light"
     },
     "output_type": "display_data"
    }
   ],
   "source": [
    "## rust\n",
    "rust_cls_report, rust_accuracy = acc_heatmap_and_cls_report(samples_dict['rust_lst'], \n",
    "                                                            prediction_dict['rust_prediction'], title = 'Rust Heatmap')"
   ]
  },
  {
   "cell_type": "code",
   "execution_count": 29,
   "id": "54c39d27",
   "metadata": {
    "execution": {
     "iopub.execute_input": "2022-02-22T02:22:08.776348Z",
     "iopub.status.busy": "2022-02-22T02:22:08.775792Z",
     "iopub.status.idle": "2022-02-22T02:22:08.997673Z",
     "shell.execute_reply": "2022-02-22T02:22:08.998107Z"
    },
    "papermill": {
     "duration": 0.29646,
     "end_time": "2022-02-22T02:22:08.998257",
     "exception": false,
     "start_time": "2022-02-22T02:22:08.701797",
     "status": "completed"
    },
    "tags": []
   },
   "outputs": [
    {
     "data": {
      "image/png": "[encoded data removed]",
      "text/plain": [
       "<Figure size 864x576 with 2 Axes>"
      ]
     },
     "metadata": {
      "needs_background": "light"
     },
     "output_type": "display_data"
    }
   ],
   "source": [
    "## phoma\n",
    "phoma_cls_report, phoma_accuracy = acc_heatmap_and_cls_report(samples_dict['phoma_lst'],\n",
    "                                                              prediction_dict['phoma_prediction'], title = 'Phoma Heatmap')"
   ]
  },
  {
   "cell_type": "code",
   "execution_count": 30,
   "id": "ff8c3b22",
   "metadata": {
    "execution": {
     "iopub.execute_input": "2022-02-22T02:22:09.144386Z",
     "iopub.status.busy": "2022-02-22T02:22:09.143601Z",
     "iopub.status.idle": "2022-02-22T02:22:09.352789Z",
     "shell.execute_reply": "2022-02-22T02:22:09.353313Z"
    },
    "papermill": {
     "duration": 0.284779,
     "end_time": "2022-02-22T02:22:09.353483",
     "exception": false,
     "start_time": "2022-02-22T02:22:09.068704",
     "status": "completed"
    },
    "tags": []
   },
   "outputs": [
    {
     "data": {
      "image/png": "[encoded data removed]",
      "text/plain": [
       "<Figure size 864x576 with 2 Axes>"
      ]
     },
     "metadata": {
      "needs_background": "light"
     },
     "output_type": "display_data"
    }
   ],
   "source": [
    "## cercosposa\n",
    "cercosposa_cls_report, cercospora_accuracy = acc_heatmap_and_cls_report(samples_dict['cercospora_lst'], \n",
    "                                                                        prediction_dict['cercospora_prediction'], \n",
    "                                                                       title = 'cercospora Heatmap')"
   ]
  },
  {
   "cell_type": "markdown",
   "id": "d7c0a65e",
   "metadata": {
    "papermill": {
     "duration": 0.071375,
     "end_time": "2022-02-22T02:22:09.497175",
     "exception": false,
     "start_time": "2022-02-22T02:22:09.425800",
     "status": "completed"
    },
    "tags": []
   },
   "source": [
    "## All Accuracies"
   ]
  },
  {
   "cell_type": "code",
   "execution_count": 31,
   "id": "45633ded",
   "metadata": {
    "execution": {
     "iopub.execute_input": "2022-02-22T02:22:09.657900Z",
     "iopub.status.busy": "2022-02-22T02:22:09.656775Z",
     "iopub.status.idle": "2022-02-22T02:22:09.659973Z",
     "shell.execute_reply": "2022-02-22T02:22:09.660412Z"
    },
    "papermill": {
     "duration": 0.092023,
     "end_time": "2022-02-22T02:22:09.660545",
     "exception": false,
     "start_time": "2022-02-22T02:22:09.568522",
     "status": "completed"
    },
    "tags": []
   },
   "outputs": [
    {
     "data": {
      "text/html": [
       "<div>\n",
       "<style scoped>\n",
       "    .dataframe tbody tr th:only-of-type {\n",
       "        vertical-align: middle;\n",
       "    }\n",
       "\n",
       "    .dataframe tbody tr th {\n",
       "        vertical-align: top;\n",
       "    }\n",
       "\n",
       "    .dataframe thead th {\n",
       "        text-align: right;\n",
       "    }\n",
       "</style>\n",
       "<table border=\"1\" class=\"dataframe\">\n",
       "  <thead>\n",
       "    <tr style=\"text-align: right;\">\n",
       "      <th></th>\n",
       "      <th>prediction_Name</th>\n",
       "      <th>accuracy</th>\n",
       "    </tr>\n",
       "  </thead>\n",
       "  <tbody>\n",
       "    <tr>\n",
       "      <th>0</th>\n",
       "      <td>Severity</td>\n",
       "      <td>97.142857</td>\n",
       "    </tr>\n",
       "    <tr>\n",
       "      <th>1</th>\n",
       "      <td>predominant_stress</td>\n",
       "      <td>97.142857</td>\n",
       "    </tr>\n",
       "    <tr>\n",
       "      <th>2</th>\n",
       "      <td>Miner</td>\n",
       "      <td>98.857143</td>\n",
       "    </tr>\n",
       "    <tr>\n",
       "      <th>3</th>\n",
       "      <td>Rust</td>\n",
       "      <td>99.428571</td>\n",
       "    </tr>\n",
       "    <tr>\n",
       "      <th>4</th>\n",
       "      <td>Phoma</td>\n",
       "      <td>100.000000</td>\n",
       "    </tr>\n",
       "    <tr>\n",
       "      <th>5</th>\n",
       "      <td>Cercosposa</td>\n",
       "      <td>98.285714</td>\n",
       "    </tr>\n",
       "  </tbody>\n",
       "</table>\n",
       "</div>"
      ],
      "text/plain": [
       "      prediction_Name    accuracy\n",
       "0            Severity   97.142857\n",
       "1  predominant_stress   97.142857\n",
       "2               Miner   98.857143\n",
       "3                Rust   99.428571\n",
       "4               Phoma  100.000000\n",
       "5          Cercosposa   98.285714"
      ]
     },
     "execution_count": 31,
     "metadata": {},
     "output_type": "execute_result"
    }
   ],
   "source": [
    "accuracy_df = pd.DataFrame({'prediction_Name' : ['Severity', 'predominant_stress', 'Miner', 'Rust', 'Phoma', 'Cercosposa'],\n",
    "                           'accuracy' : [sev_accuracy*100, stress_accuracy*100, miner_accuracy*100, \n",
    "                                         rust_accuracy*100, phoma_accuracy*100, cercospora_accuracy*100]})\n",
    "accuracy_df"
   ]
  },
  {
   "cell_type": "markdown",
   "id": "3a48c695",
   "metadata": {
    "papermill": {
     "duration": 0.071514,
     "end_time": "2022-02-22T02:22:09.802714",
     "exception": false,
     "start_time": "2022-02-22T02:22:09.731200",
     "status": "completed"
    },
    "tags": []
   },
   "source": [
    "## Prediction of all dataset and saving the csv"
   ]
  },
  {
   "cell_type": "code",
   "execution_count": 32,
   "id": "e4c1fd9d",
   "metadata": {
    "execution": {
     "iopub.execute_input": "2022-02-22T02:22:09.949081Z",
     "iopub.status.busy": "2022-02-22T02:22:09.948557Z",
     "iopub.status.idle": "2022-02-22T02:22:10.150970Z",
     "shell.execute_reply": "2022-02-22T02:22:10.150500Z"
    },
    "papermill": {
     "duration": 0.277589,
     "end_time": "2022-02-22T02:22:10.151107",
     "exception": false,
     "start_time": "2022-02-22T02:22:09.873518",
     "status": "completed"
    },
    "tags": []
   },
   "outputs": [],
   "source": [
    "transform = transforms.Compose([\n",
    "        transforms.ToPILImage(),\n",
    "        transforms.Resize((224, 224)),\n",
    "        transforms.ToTensor(),\n",
    "        transforms.Normalize([0.485, 0.456, 0.406], [0.229, 0.224, 0.225])\n",
    "        ])\n",
    "\n",
    "all_images = os.listdir(images_path)"
   ]
  },
  {
   "cell_type": "code",
   "execution_count": 33,
   "id": "d2da7a40",
   "metadata": {
    "execution": {
     "iopub.execute_input": "2022-02-22T02:22:10.297765Z",
     "iopub.status.busy": "2022-02-22T02:22:10.296935Z",
     "iopub.status.idle": "2022-02-22T02:22:10.299335Z",
     "shell.execute_reply": "2022-02-22T02:22:10.298916Z"
    },
    "papermill": {
     "duration": 0.077074,
     "end_time": "2022-02-22T02:22:10.299446",
     "exception": false,
     "start_time": "2022-02-22T02:22:10.222372",
     "status": "completed"
    },
    "tags": []
   },
   "outputs": [],
   "source": [
    "device = 'cuda' if torch.cuda.is_available() else 'cpu'"
   ]
  },
  {
   "cell_type": "code",
   "execution_count": 34,
   "id": "d87247f7",
   "metadata": {
    "execution": {
     "iopub.execute_input": "2022-02-22T02:22:10.454532Z",
     "iopub.status.busy": "2022-02-22T02:22:10.453889Z",
     "iopub.status.idle": "2022-02-22T02:23:39.472003Z",
     "shell.execute_reply": "2022-02-22T02:23:39.471503Z"
    },
    "papermill": {
     "duration": 89.101472,
     "end_time": "2022-02-22T02:23:39.472181",
     "exception": false,
     "start_time": "2022-02-22T02:22:10.370709",
     "status": "completed"
    },
    "tags": []
   },
   "outputs": [],
   "source": [
    "img_id = []\n",
    "severity = []\n",
    "stress = []\n",
    "miner = []\n",
    "rust = []\n",
    "phoma = []\n",
    "cercospora = []\n",
    "\n",
    "for file in all_images :\n",
    "    id_ = int(file.split('.')[0])\n",
    "    img = cv2.imread(os.path.join(images_path, file))\n",
    "    img = cv2.cvtColor(img, cv2.COLOR_BGR2RGB)\n",
    "    \n",
    "    ## transforms\n",
    "    img = transform(img)\n",
    "    img = img.unsqueeze(0).to(device)\n",
    "    ## prediction\n",
    "    output = model(img)\n",
    "    \n",
    "    severity_pred = torch.softmax(output['severity'], dim=1)\n",
    "    _, severity_pred_class = torch.max(severity_pred.data, 1)\n",
    "    \n",
    "    stress_pred = torch.softmax(output['predominant_stress'], dim=1)\n",
    "    _, stress_pred_class = torch.max(stress_pred.data, 1)\n",
    "    \n",
    "    miner_pred = torch.sigmoid(output['miner_stress'])\n",
    "    miner_pred_class = prediction_class(miner_pred, 0.5)\n",
    "\n",
    "    rust_pred = torch.sigmoid(output['rust_stress'])\n",
    "    rust_pred_class = prediction_class(rust_pred, 0.5)\n",
    "\n",
    "    phoma_pred = torch.sigmoid(output['phoma_stress'])\n",
    "    phoma_pred_class = prediction_class(phoma_pred, 0.5)\n",
    "\n",
    "    cercospora_pred = torch.sigmoid(output['cercospora_stress'])\n",
    "    cercospora_pred_class = prediction_class(cercospora_pred, 0.5)\n",
    "    \n",
    "    img_id.append((id_))\n",
    "    severity.append(severity_pred_class.cpu().detach().squeeze(-1).numpy())\n",
    "    stress.append(stress_pred_class.cpu().detach().squeeze(-1).numpy())\n",
    "    miner.extend(miner_pred_class.cpu().detach().squeeze(1).numpy())\n",
    "    rust.extend(rust_pred_class.cpu().detach().squeeze(1).numpy())\n",
    "    phoma.extend(phoma_pred_class.cpu().detach().squeeze(1).numpy())\n",
    "    cercospora.extend(cercospora_pred_class.cpu().detach().squeeze(1).numpy())"
   ]
  },
  {
   "cell_type": "code",
   "execution_count": 35,
   "id": "e877dcc9",
   "metadata": {
    "execution": {
     "iopub.execute_input": "2022-02-22T02:23:39.629603Z",
     "iopub.status.busy": "2022-02-22T02:23:39.628641Z",
     "iopub.status.idle": "2022-02-22T02:23:39.647646Z",
     "shell.execute_reply": "2022-02-22T02:23:39.647189Z"
    },
    "papermill": {
     "duration": 0.099477,
     "end_time": "2022-02-22T02:23:39.647771",
     "exception": false,
     "start_time": "2022-02-22T02:23:39.548294",
     "status": "completed"
    },
    "tags": []
   },
   "outputs": [],
   "source": [
    "final_submission = pd.DataFrame({'id' : img_id, 'miner' : miner, 'rust' : rust, 'phoma' : phoma, 'cercospora' : cercospora,\n",
    "                               'severity' : severity}) \n",
    "final_submission.to_csv('final_submission.csv', index = False)"
   ]
  },
  {
   "cell_type": "code",
   "execution_count": 36,
   "id": "caa0579d",
   "metadata": {
    "execution": {
     "iopub.execute_input": "2022-02-22T02:23:39.799731Z",
     "iopub.status.busy": "2022-02-22T02:23:39.798830Z",
     "iopub.status.idle": "2022-02-22T02:23:39.803235Z",
     "shell.execute_reply": "2022-02-22T02:23:39.802739Z"
    },
    "papermill": {
     "duration": 0.082927,
     "end_time": "2022-02-22T02:23:39.803354",
     "exception": false,
     "start_time": "2022-02-22T02:23:39.720427",
     "status": "completed"
    },
    "tags": []
   },
   "outputs": [
    {
     "data": {
      "text/plain": [
       "(1747, 6)"
      ]
     },
     "execution_count": 36,
     "metadata": {},
     "output_type": "execute_result"
    }
   ],
   "source": [
    "final_submission.shape"
   ]
  },
  {
   "cell_type": "code",
   "execution_count": 37,
   "id": "33d22eb1",
   "metadata": {
    "execution": {
     "iopub.execute_input": "2022-02-22T02:23:39.966228Z",
     "iopub.status.busy": "2022-02-22T02:23:39.965442Z",
     "iopub.status.idle": "2022-02-22T02:23:39.968370Z",
     "shell.execute_reply": "2022-02-22T02:23:39.968772Z"
    },
    "papermill": {
     "duration": 0.093122,
     "end_time": "2022-02-22T02:23:39.968912",
     "exception": false,
     "start_time": "2022-02-22T02:23:39.875790",
     "status": "completed"
    },
    "tags": []
   },
   "outputs": [
    {
     "data": {
      "text/html": [
       "<div>\n",
       "<style scoped>\n",
       "    .dataframe tbody tr th:only-of-type {\n",
       "        vertical-align: middle;\n",
       "    }\n",
       "\n",
       "    .dataframe tbody tr th {\n",
       "        vertical-align: top;\n",
       "    }\n",
       "\n",
       "    .dataframe thead th {\n",
       "        text-align: right;\n",
       "    }\n",
       "</style>\n",
       "<table border=\"1\" class=\"dataframe\">\n",
       "  <thead>\n",
       "    <tr style=\"text-align: right;\">\n",
       "      <th></th>\n",
       "      <th>id</th>\n",
       "      <th>miner</th>\n",
       "      <th>rust</th>\n",
       "      <th>phoma</th>\n",
       "      <th>cercospora</th>\n",
       "      <th>severity</th>\n",
       "    </tr>\n",
       "  </thead>\n",
       "  <tbody>\n",
       "    <tr>\n",
       "      <th>0</th>\n",
       "      <td>1269</td>\n",
       "      <td>0.0</td>\n",
       "      <td>1.0</td>\n",
       "      <td>0.0</td>\n",
       "      <td>0.0</td>\n",
       "      <td>1</td>\n",
       "    </tr>\n",
       "    <tr>\n",
       "      <th>1</th>\n",
       "      <td>623</td>\n",
       "      <td>1.0</td>\n",
       "      <td>1.0</td>\n",
       "      <td>0.0</td>\n",
       "      <td>0.0</td>\n",
       "      <td>1</td>\n",
       "    </tr>\n",
       "    <tr>\n",
       "      <th>2</th>\n",
       "      <td>764</td>\n",
       "      <td>0.0</td>\n",
       "      <td>1.0</td>\n",
       "      <td>0.0</td>\n",
       "      <td>0.0</td>\n",
       "      <td>1</td>\n",
       "    </tr>\n",
       "    <tr>\n",
       "      <th>3</th>\n",
       "      <td>1700</td>\n",
       "      <td>0.0</td>\n",
       "      <td>0.0</td>\n",
       "      <td>0.0</td>\n",
       "      <td>1.0</td>\n",
       "      <td>2</td>\n",
       "    </tr>\n",
       "    <tr>\n",
       "      <th>4</th>\n",
       "      <td>1075</td>\n",
       "      <td>1.0</td>\n",
       "      <td>0.0</td>\n",
       "      <td>0.0</td>\n",
       "      <td>0.0</td>\n",
       "      <td>2</td>\n",
       "    </tr>\n",
       "    <tr>\n",
       "      <th>...</th>\n",
       "      <td>...</td>\n",
       "      <td>...</td>\n",
       "      <td>...</td>\n",
       "      <td>...</td>\n",
       "      <td>...</td>\n",
       "      <td>...</td>\n",
       "    </tr>\n",
       "    <tr>\n",
       "      <th>1742</th>\n",
       "      <td>1201</td>\n",
       "      <td>0.0</td>\n",
       "      <td>0.0</td>\n",
       "      <td>0.0</td>\n",
       "      <td>0.0</td>\n",
       "      <td>0</td>\n",
       "    </tr>\n",
       "    <tr>\n",
       "      <th>1743</th>\n",
       "      <td>147</td>\n",
       "      <td>0.0</td>\n",
       "      <td>1.0</td>\n",
       "      <td>0.0</td>\n",
       "      <td>0.0</td>\n",
       "      <td>1</td>\n",
       "    </tr>\n",
       "    <tr>\n",
       "      <th>1744</th>\n",
       "      <td>921</td>\n",
       "      <td>0.0</td>\n",
       "      <td>0.0</td>\n",
       "      <td>0.0</td>\n",
       "      <td>0.0</td>\n",
       "      <td>0</td>\n",
       "    </tr>\n",
       "    <tr>\n",
       "      <th>1745</th>\n",
       "      <td>728</td>\n",
       "      <td>1.0</td>\n",
       "      <td>0.0</td>\n",
       "      <td>0.0</td>\n",
       "      <td>0.0</td>\n",
       "      <td>1</td>\n",
       "    </tr>\n",
       "    <tr>\n",
       "      <th>1746</th>\n",
       "      <td>1656</td>\n",
       "      <td>0.0</td>\n",
       "      <td>1.0</td>\n",
       "      <td>0.0</td>\n",
       "      <td>0.0</td>\n",
       "      <td>1</td>\n",
       "    </tr>\n",
       "  </tbody>\n",
       "</table>\n",
       "<p>1747 rows × 6 columns</p>\n",
       "</div>"
      ],
      "text/plain": [
       "        id  miner  rust  phoma  cercospora severity\n",
       "0     1269    0.0   1.0    0.0         0.0        1\n",
       "1      623    1.0   1.0    0.0         0.0        1\n",
       "2      764    0.0   1.0    0.0         0.0        1\n",
       "3     1700    0.0   0.0    0.0         1.0        2\n",
       "4     1075    1.0   0.0    0.0         0.0        2\n",
       "...    ...    ...   ...    ...         ...      ...\n",
       "1742  1201    0.0   0.0    0.0         0.0        0\n",
       "1743   147    0.0   1.0    0.0         0.0        1\n",
       "1744   921    0.0   0.0    0.0         0.0        0\n",
       "1745   728    1.0   0.0    0.0         0.0        1\n",
       "1746  1656    0.0   1.0    0.0         0.0        1\n",
       "\n",
       "[1747 rows x 6 columns]"
      ]
     },
     "execution_count": 37,
     "metadata": {},
     "output_type": "execute_result"
    }
   ],
   "source": [
    "final_submission"
   ]
  },
  {
   "cell_type": "code",
   "execution_count": null,
   "id": "8285c946",
   "metadata": {
    "papermill": {
     "duration": 0.072147,
     "end_time": "2022-02-22T02:23:40.115336",
     "exception": false,
     "start_time": "2022-02-22T02:23:40.043189",
     "status": "completed"
    },
    "tags": []
   },
   "outputs": [],
   "source": []
  }
 ],
 "metadata": {
  "kernelspec": {
   "display_name": "Python 3",
   "language": "python",
   "name": "python3"
  },
  "language_info": {
   "codemirror_mode": {
    "name": "ipython",
    "version": 3
   },
   "file_extension": ".py",
   "mimetype": "text/x-python",
   "name": "python",
   "nbconvert_exporter": "python",
   "pygments_lexer": "ipython3",
   "version": "3.7.12"
  },
  "papermill": {
   "default_parameters": {},
   "duration": 3804.984147,
   "end_time": "2022-02-22T02:23:42.399580",
   "environment_variables": {},
   "exception": null,
   "input_path": "__notebook__.ipynb",
   "output_path": "__notebook__.ipynb",
   "parameters": {},
   "start_time": "2022-02-22T01:20:17.415433",
   "version": "2.3.3"
  },
  "widgets": {
   "application/vnd.jupyter.widget-state+json": {
    "state": {
     "05dad06ee07e46bcbab266974d08f278": {
      "model_module": "@jupyter-widgets/controls",
      "model_module_version": "1.5.0",
      "model_name": "ProgressStyleModel",
      "state": {
       "_model_module": "@jupyter-widgets/controls",
       "_model_module_version": "1.5.0",
       "_model_name": "ProgressStyleModel",
       "_view_count": null,
       "_view_module": "@jupyter-widgets/base",
       "_view_module_version": "1.2.0",
       "_view_name": "StyleView",
       "bar_color": null,
       "description_width": ""
      }
     },
     "0a6dda3c81ce4adc850f19861c015bbd": {
      "model_module": "@jupyter-widgets/base",
      "model_module_version": "1.2.0",
      "model_name": "LayoutModel",
      "state": {
       "_model_module": "@jupyter-widgets/base",
       "_model_module_version": "1.2.0",
       "_model_name": "LayoutModel",
       "_view_count": null,
       "_view_module": "@jupyter-widgets/base",
       "_view_module_version": "1.2.0",
       "_view_name": "LayoutView",
       "align_content": null,
       "align_items": null,
       "align_self": null,
       "border": null,
       "bottom": null,
       "display": null,
       "flex": null,
       "flex_flow": null,
       "grid_area": null,
       "grid_auto_columns": null,
       "grid_auto_flow": null,
       "grid_auto_rows": null,
       "grid_column": null,
       "grid_gap": null,
       "grid_row": null,
       "grid_template_areas": null,
       "grid_template_columns": null,
       "grid_template_rows": null,
       "height": null,
       "justify_content": null,
       "justify_items": null,
       "left": null,
       "margin": null,
       "max_height": null,
       "max_width": null,
       "min_height": null,
       "min_width": null,
       "object_fit": null,
       "object_position": null,
       "order": null,
       "overflow": null,
       "overflow_x": null,
       "overflow_y": null,
       "padding": null,
       "right": null,
       "top": null,
       "visibility": null,
       "width": null
      }
     },
     "1d56171d224e4c8e83abb4a823a53a13": {
      "model_module": "@jupyter-widgets/controls",
      "model_module_version": "1.5.0",
      "model_name": "HTMLModel",
      "state": {
       "_dom_classes": [],
       "_model_module": "@jupyter-widgets/controls",
       "_model_module_version": "1.5.0",
       "_model_name": "HTMLModel",
       "_view_count": null,
       "_view_module": "@jupyter-widgets/controls",
       "_view_module_version": "1.5.0",
       "_view_name": "HTMLView",
       "description": "",
       "description_tooltip": null,
       "layout": "IPY_MODEL_d5b82269eb6b47728f9373aedc02fc58",
       "placeholder": "​",
       "style": "IPY_MODEL_3b211df68d6948b79b4efa4f097f583f",
       "value": "100%"
      }
     },
     "3b211df68d6948b79b4efa4f097f583f": {
      "model_module": "@jupyter-widgets/controls",
      "model_module_version": "1.5.0",
      "model_name": "DescriptionStyleModel",
      "state": {
       "_model_module": "@jupyter-widgets/controls",
       "_model_module_version": "1.5.0",
       "_model_name": "DescriptionStyleModel",
       "_view_count": null,
       "_view_module": "@jupyter-widgets/base",
       "_view_module_version": "1.2.0",
       "_view_name": "StyleView",
       "description_width": ""
      }
     },
     "4d8f413e6d0840c19e9f0c4a29438095": {
      "model_module": "@jupyter-widgets/base",
      "model_module_version": "1.2.0",
      "model_name": "LayoutModel",
      "state": {
       "_model_module": "@jupyter-widgets/base",
       "_model_module_version": "1.2.0",
       "_model_name": "LayoutModel",
       "_view_count": null,
       "_view_module": "@jupyter-widgets/base",
       "_view_module_version": "1.2.0",
       "_view_name": "LayoutView",
       "align_content": null,
       "align_items": null,
       "align_self": null,
       "border": null,
       "bottom": null,
       "display": null,
       "flex": null,
       "flex_flow": null,
       "grid_area": null,
       "grid_auto_columns": null,
       "grid_auto_flow": null,
       "grid_auto_rows": null,
       "grid_column": null,
       "grid_gap": null,
       "grid_row": null,
       "grid_template_areas": null,
       "grid_template_columns": null,
       "grid_template_rows": null,
       "height": null,
       "justify_content": null,
       "justify_items": null,
       "left": null,
       "margin": null,
       "max_height": null,
       "max_width": null,
       "min_height": null,
       "min_width": null,
       "object_fit": null,
       "object_position": null,
       "order": null,
       "overflow": null,
       "overflow_x": null,
       "overflow_y": null,
       "padding": null,
       "right": null,
       "top": null,
       "visibility": null,
       "width": null
      }
     },
     "58d997a5b83447bbba442eefe79daee4": {
      "model_module": "@jupyter-widgets/controls",
      "model_module_version": "1.5.0",
      "model_name": "HTMLModel",
      "state": {
       "_dom_classes": [],
       "_model_module": "@jupyter-widgets/controls",
       "_model_module_version": "1.5.0",
       "_model_name": "HTMLModel",
       "_view_count": null,
       "_view_module": "@jupyter-widgets/controls",
       "_view_module_version": "1.5.0",
       "_view_name": "HTMLView",
       "description": "",
       "description_tooltip": null,
       "layout": "IPY_MODEL_4d8f413e6d0840c19e9f0c4a29438095",
       "placeholder": "​",
       "style": "IPY_MODEL_6c839d6312a84f0b9673f9bc5d016f2d",
       "value": " 528M/528M [00:28&lt;00:00, 22.7MB/s]"
      }
     },
     "6c839d6312a84f0b9673f9bc5d016f2d": {
      "model_module": "@jupyter-widgets/controls",
      "model_module_version": "1.5.0",
      "model_name": "DescriptionStyleModel",
      "state": {
       "_model_module": "@jupyter-widgets/controls",
       "_model_module_version": "1.5.0",
       "_model_name": "DescriptionStyleModel",
       "_view_count": null,
       "_view_module": "@jupyter-widgets/base",
       "_view_module_version": "1.2.0",
       "_view_name": "StyleView",
       "description_width": ""
      }
     },
     "932fe41d72394578ab1e18e292ce6cd5": {
      "model_module": "@jupyter-widgets/controls",
      "model_module_version": "1.5.0",
      "model_name": "HBoxModel",
      "state": {
       "_dom_classes": [],
       "_model_module": "@jupyter-widgets/controls",
       "_model_module_version": "1.5.0",
       "_model_name": "HBoxModel",
       "_view_count": null,
       "_view_module": "@jupyter-widgets/controls",
       "_view_module_version": "1.5.0",
       "_view_name": "HBoxView",
       "box_style": "",
       "children": [
        "IPY_MODEL_1d56171d224e4c8e83abb4a823a53a13",
        "IPY_MODEL_9927cef1e6d9446eacca6e49fbe44fb4",
        "IPY_MODEL_58d997a5b83447bbba442eefe79daee4"
       ],
       "layout": "IPY_MODEL_0a6dda3c81ce4adc850f19861c015bbd"
      }
     },
     "9927cef1e6d9446eacca6e49fbe44fb4": {
      "model_module": "@jupyter-widgets/controls",
      "model_module_version": "1.5.0",
      "model_name": "FloatProgressModel",
      "state": {
       "_dom_classes": [],
       "_model_module": "@jupyter-widgets/controls",
       "_model_module_version": "1.5.0",
       "_model_name": "FloatProgressModel",
       "_view_count": null,
       "_view_module": "@jupyter-widgets/controls",
       "_view_module_version": "1.5.0",
       "_view_name": "ProgressView",
       "bar_style": "success",
       "description": "",
       "description_tooltip": null,
       "layout": "IPY_MODEL_d7c62416e8d94a24aa949f0071747c9f",
       "max": 553433881.0,
       "min": 0.0,
       "orientation": "horizontal",
       "style": "IPY_MODEL_05dad06ee07e46bcbab266974d08f278",
       "value": 553433881.0
      }
     },
     "d5b82269eb6b47728f9373aedc02fc58": {
      "model_module": "@jupyter-widgets/base",
      "model_module_version": "1.2.0",
      "model_name": "LayoutModel",
      "state": {
       "_model_module": "@jupyter-widgets/base",
       "_model_module_version": "1.2.0",
       "_model_name": "LayoutModel",
       "_view_count": null,
       "_view_module": "@jupyter-widgets/base",
       "_view_module_version": "1.2.0",
       "_view_name": "LayoutView",
       "align_content": null,
       "align_items": null,
       "align_self": null,
       "border": null,
       "bottom": null,
       "display": null,
       "flex": null,
       "flex_flow": null,
       "grid_area": null,
       "grid_auto_columns": null,
       "grid_auto_flow": null,
       "grid_auto_rows": null,
       "grid_column": null,
       "grid_gap": null,
       "grid_row": null,
       "grid_template_areas": null,
       "grid_template_columns": null,
       "grid_template_rows": null,
       "height": null,
       "justify_content": null,
       "justify_items": null,
       "left": null,
       "margin": null,
       "max_height": null,
       "max_width": null,
       "min_height": null,
       "min_width": null,
       "object_fit": null,
       "object_position": null,
       "order": null,
       "overflow": null,
       "overflow_x": null,
       "overflow_y": null,
       "padding": null,
       "right": null,
       "top": null,
       "visibility": null,
       "width": null
      }
     },
     "d7c62416e8d94a24aa949f0071747c9f": {
      "model_module": "@jupyter-widgets/base",
      "model_module_version": "1.2.0",
      "model_name": "LayoutModel",
      "state": {
       "_model_module": "@jupyter-widgets/base",
       "_model_module_version": "1.2.0",
       "_model_name": "LayoutModel",
       "_view_count": null,
       "_view_module": "@jupyter-widgets/base",
       "_view_module_version": "1.2.0",
       "_view_name": "LayoutView",
       "align_content": null,
       "align_items": null,
       "align_self": null,
       "border": null,
       "bottom": null,
       "display": null,
       "flex": null,
       "flex_flow": null,
       "grid_area": null,
       "grid_auto_columns": null,
       "grid_auto_flow": null,
       "grid_auto_rows": null,
       "grid_column": null,
       "grid_gap": null,
       "grid_row": null,
       "grid_template_areas": null,
       "grid_template_columns": null,
       "grid_template_rows": null,
       "height": null,
       "justify_content": null,
       "justify_items": null,
       "left": null,
       "margin": null,
       "max_height": null,
       "max_width": null,
       "min_height": null,
       "min_width": null,
       "object_fit": null,
       "object_position": null,
       "order": null,
       "overflow": null,
       "overflow_x": null,
       "overflow_y": null,
       "padding": null,
       "right": null,
       "top": null,
       "visibility": null,
       "width": null
      }
     }
    },
    "version_major": 2,
    "version_minor": 0
   }
  }
 },
 "nbformat": 4,
 "nbformat_minor": 5
}
